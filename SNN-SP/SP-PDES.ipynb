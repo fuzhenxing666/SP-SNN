{
 "cells": [
  {
   "cell_type": "markdown",
   "id": "3018e92d",
   "metadata": {},
   "source": [
    "Example 1: \n",
    "$$ -\\epsilon u_{xx} + u_x = \\epsilon \\pi^2 \\sin(\\pi x) + \\pi \\cos(\\pi x), \\qquad x \\in (0,1)  $$\n",
    "$$u(0) = 0, \\quad u(1) = 1 $$\n",
    "Analytical Solution:\n",
    "$$u(x) = \\sin(\\pi x) + \\frac{e^{\\frac{x}{\\epsilon}}-1}{e^{\\frac{1}{\\epsilon}}-1}$$\n",
    "$$u(x) = \\sin(\\pi x) + e^{\\frac{x-1}{\\epsilon}}\\frac{1-e^{-x/\\epsilon}}{1-e^{-1/\\epsilon}}$$"
   ]
  },
  {
   "cell_type": "markdown",
   "id": "7ef655c0",
   "metadata": {},
   "source": [
    "Example 2: \n",
    "$$ \\varepsilon u_{xx} + (1+\\varepsilon)u_x + u = 0, \\qquad x \\in (0,1)  $$\n",
    "$$u(0) = 0, \\quad u(1) = 1 $$\n",
    "Analytical Solution:\n",
    "$$u(x) = \\frac{e^{-x} - e^{-\\frac{x}{\\varepsilon}}}{e^{-1} - e^{-\\frac{1}{\\varepsilon}}}$$\n",
    "$$u(x) = \\frac{e^{-\\frac{x}{\\varepsilon}}-e^{-x}}{e^{-\\frac{1}{\\varepsilon}}-e^{-1}}$$"
   ]
  },
  {
   "cell_type": "markdown",
   "id": "baa17a95",
   "metadata": {},
   "source": [
    "Example 3: 1D reaction-diffusion eqution \n",
    "$$ \\frac{\\partial u}{\\partial t} - \\varepsilon \\frac{\\partial^2 u}{\\partial x^2} + (1+xe^{-t})u=f(x,t), \\qquad (x,t) \\in [0,1] \\times [0,T]  $$\n",
    "$$ u(0,t) = 0, \\qquad u(1,t) = 0. $$\n",
    "Analytical Solution:\n",
    "$$u(x,t) = -e^{2-t}\\left(\\frac{e^{-x/\\varepsilon} + e^{-(1-x)/\\varepsilon}}  {1+e^{-1/\\varepsilon}}-1\\right)$$"
   ]
  },
  {
   "cell_type": "markdown",
   "id": "cda7f41e",
   "metadata": {},
   "source": [
    "Example 4: elliptic PDE problem with a singular term \n",
    "$$ \\varepsilon \\left( \\frac{\\partial^2 u}{\\partial x^2} + \\frac{\\partial^2 u}{\\partial y^2} \\right) + \\frac{\\partial u}{\\partial x} = -\\sin(\\pi y), \\quad (x,y) \\in [0,1] \\times [0,1] $$\n",
    "$$ u|_{x=0} = u|_{x=1} = u|_{y=0} = u|_{y=1} = 0 $$\n",
    "Analytical Solution:\n",
    "$$ u(x, y) = \\left( Ae^{xr_+} + Be^{xr_-} + \\frac{1}{\\epsilon\\pi^2} \\right) \\sin(\\pi y). $$\n",
    "where\n",
    "$$ A = \\frac{e^{r_-} - 1}{\\epsilon\\pi^2(e^{r_+} - e^{r_-})}, \\quad B = \\frac{1 - e^{r_+}}{\\epsilon\\pi^2(e^{r_+} - e^{r_-})}, \\quad r_{\\pm} = \\frac{-1 \\pm \\sqrt{1+4 \\epsilon^2 \\pi^2}}{2\\epsilon}. $$\n",
    "$$ u(x,y) = \\frac{\\sin(\\pi y)}{\\epsilon\\pi^2} \\left( 1 + \\frac{(e^{r_{-}}-1)e^{(x-1)r_{+}} + (e^{-r_{+}}-1)e^{xr_{-}}}{1 - e^{r_{-}-r_{+}}} \\right) $$"
   ]
  },
  {
   "cell_type": "markdown",
   "id": "07bfdd54",
   "metadata": {},
   "source": [
    "Example 5: \n",
    "$$ -\\varepsilon \\left( u_{xx}+u_{yy} \\right) + u_x = 0, \\quad (x,y) \\in [0,1] \\times [0,1] $$\n",
    "$$ u(x,0) = u(x,1) = 0 $$\n",
    "$$ u(0,y) = \\sin(\\pi y), u(1,y)=2\\sin(\\pi y)$$\n",
    "Analytical Solution:\n",
    "$$ u(x, y) = \\left( \\frac{(2 - e^{r_2}) e^{r_1 x} + (e^{r_1} - 2) e^{r_2 x}}{e^{r_1} - e^{r_2}} \\right) \\sin(\\pi y). $$\n",
    "where\n",
    "$$ r_1 = \\frac{1 + \\sqrt{1 + 4\\varepsilon^2 \\pi^2}}{2\\varepsilon}, \\quad r_2 = \\frac{1 - \\sqrt{1+4\\varepsilon^2 \\pi^2}}{2\\varepsilon}. $$\n",
    "\n",
    "无数值溢出的解：\n",
    "$$u(x,y) = \\frac{(2 - e^{r_2}) e^{r_1 (x - 1)} + (1 - 2e^{-r_1}) e^{r_2 x}}{1 - e^{r_2 - r_1}} \\sin(\\pi y)$$"
   ]
  },
  {
   "cell_type": "markdown",
   "id": "da2b5872",
   "metadata": {},
   "source": [
    "Example 6: Unsymmetrical bending of prestressed annular plates with dual boundary\n",
    "layers（双边界层预应力环形板的不对称弯曲）\n",
    "$$ \\Delta\\Delta W = \\frac{R^2}{D} \\left( n_r \\frac{\\partial^2 W}{\\partial r^2} + n_\\theta \\left( \\frac{1}{r} \\frac{\\partial W}{\\partial r} + \\frac{1}{r^2} \\frac{\\partial^2 W}{\\partial \\theta^2} \\right) \\right) + 2n_{r\\theta} \\frac{\\partial}{\\partial r} \\left( \\frac{1}{r} \\frac{\\partial W}{\\partial r} \\right), \\quad b \\le r \\le 1, $$\n",
    "where $\\Delta \\left(= \\frac{\\partial^2}{\\partial r^2} + \\frac{1}{r}\\frac{\\partial}{\\partial r} + \\frac{1}{r^2}\\frac{\\partial^2}{\\partial \\theta^2}\\right)$, $n_r = n_\\theta = n \\equiv \\text{constant}$, and $n_{r\\theta} = 0$.\n",
    "\n",
    "$$ \\varepsilon^2 \\Delta\\Delta W - \\Delta W = 0, \\quad b \\le r \\le 1, $$\n",
    "where $\\varepsilon^2 \\left( = \\frac{D}{R^2n} \\ll 1 \\right)$, \n",
    "$$ W|_{r=b} = b\\alpha \\cos\\theta, \\quad \\left.\\frac{\\partial W}{\\partial r}\\right|_{r=b} = \\alpha \\cos\\theta. $$\n",
    "$$ W|_{r=1} = 0, \\quad \\left.\\frac{\\partial W}{\\partial r}\\right|_{r=1} = 0. $$\n",
    "Here, we consider $b=0.2$, $\\alpha = 0.5$, and $\\varepsilon = 0.005$.\n",
    "\n",
    "\n",
    "The first-order asymptotic solution to this problem is:\n",
    "$$ W(r, \\theta, \\varepsilon) = \\left( \\frac{b^2\\alpha}{1-b^2} \\left( \\frac{1}{r} - r \\right) + \\varepsilon \\frac{2\\alpha b}{(1-b^2)^2} \\left( \\frac{1+b^3}{r} - (1+b)r \\right) + \\varepsilon \\frac{-2\\alpha}{1-b^2} \\frac{\\sqrt{b}}{\\sqrt{r}} e^{-\\frac{r-b}{\\varepsilon}} \\right. $$\n",
    "$$ \\left. + \\varepsilon \\frac{2b^2\\alpha}{1-b^2} \\frac{1}{\\sqrt{r}} e^{-\\frac{1-r}{\\varepsilon}} \\right) \\cos\\theta + \\mathcal{O}(\\varepsilon^2). $$"
   ]
  },
  {
   "cell_type": "markdown",
   "id": "632daeb6",
   "metadata": {},
   "source": [
    "Example 7: 2D reaction-diffusion eqution \n",
    "$$ \\frac{\\partial u}{\\partial t} - \\varepsilon \\frac{\\partial^2 u}{\\partial x^2} + (1+x)(1-x)u_x=f(x,t), \\qquad (x,t) \\in [0,1] \\times [0,T]  $$\n",
    "$$u(x,0)=u_0(x), \\qquad u(0,t) = 0, \\qquad u(1,t) = 0. $$\n",
    "$$ f(x,t) = e^{-t} \\left[ (1-x-x^2) + (x+x^2-2)e^{-1/\\epsilon} + \\left(1+\\frac{x^2}{\\epsilon}\\right)e^{-(1-x)/\\epsilon} \\right] $$\n",
    "Analytical Solution:\n",
    "$$u(x,t) = e^{-t}\\left(e^{-1/\\varepsilon} + x(1-e^{-1/\\varepsilon}) - e^{-(1-x)/\\varepsilon}\\right)$$"
   ]
  },
  {
   "cell_type": "markdown",
   "id": "5e83d729",
   "metadata": {},
   "source": [
    "Example 8: parabolic convection-dominated equation\n",
    "$$\n",
    "\\begin{cases}\n",
    "u_t - \\varepsilon \\Delta u + u_x + u_y = F(x,y), & (x,y) \\in [0,1]\\times[0,1], t \\in [0,1]\\\\\n",
    "u = G(x,y), & (x,y) \\in \\partial\\Omega, \\\\\n",
    "u(x,y,0) = u_0(x,y), & (x,y) \\in [0,1]\\times[0,1],\n",
    "\\end{cases}\n",
    "$$\n",
    "where\n",
    "$$ F(x,y) = e^{-\\frac{(1-x)(1-y)}{2\\varepsilon}} \\left( -1 + \\frac{2-x^2-y^2}{4\\varepsilon} \\right) $$\n",
    "$$ G(x,y) = e^{-\\frac{(1-x)(1-y)}{2\\epsilon}} \\quad \\text{for } (x,y) \\in \\partial\\Omega $$\n",
    "$$ u_0(x,y) = e^1 e^{-\\frac{(1-x)(1-y)}{2\\epsilon}} \\text{for } (x,y) \\in \\Omega$$\n",
    "Analytical Solution:\n",
    "$$ u(x,y,t) = e^{1-t}e^{-\\frac{(1-x)(1-y)}{2\\varepsilon}} $$"
   ]
  }
 ],
 "metadata": {
  "kernelspec": {
   "display_name": "machine",
   "language": "python",
   "name": "python3"
  },
  "language_info": {
   "codemirror_mode": {
    "name": "ipython",
    "version": 3
   },
   "file_extension": ".py",
   "mimetype": "text/x-python",
   "name": "python",
   "nbconvert_exporter": "python",
   "pygments_lexer": "ipython3",
   "version": "3.10.13"
  }
 },
 "nbformat": 4,
 "nbformat_minor": 5
}
